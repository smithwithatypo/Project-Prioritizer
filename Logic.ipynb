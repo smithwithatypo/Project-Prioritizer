{
 "cells": [
  {
   "cell_type": "code",
   "execution_count": 1,
   "metadata": {},
   "outputs": [],
   "source": [
    "%matplotlib inline\n",
    "import matplotlib.pyplot as plt\n",
    "import numpy as np\n",
    "import pandas as pd"
   ]
  },
  {
   "cell_type": "code",
   "execution_count": 2,
   "metadata": {},
   "outputs": [],
   "source": [
    "def importance_choice(i):\n",
    "    print(f'Rate Importance of {i.upper()}:  (0 ->10 ->20 or exit=999)')\n",
    "    a = int(input())                        # add sanitizer for string inputs.  switch: if a==string, please try again, call function\n",
    "    if a > -1 and a < 21:                   \n",
    "        return a\n",
    "    elif (a==999):\n",
    "        print(\"thank you\")\n",
    "        return a\n",
    "    else: \n",
    "        print(\"please try again\")\n",
    "        importance_choice(i)\n",
    "\n",
    "def urgency_choice(i):\n",
    "    print(f'Rate Urgency of {i.upper()}:  (0 ->10 ->20 or exit=999)')\n",
    "    b = int(input())\n",
    "    if b > -1 and b < 21:\n",
    "        return b\n",
    "    elif (b==999):\n",
    "        print(\"thank you\")\n",
    "        return b\n",
    "    else: \n",
    "        print(\"please try again\")\n",
    "        urgency_choice(i)"
   ]
  },
  {
   "cell_type": "code",
   "execution_count": 3,
   "metadata": {},
   "outputs": [
    {
     "name": "stdout",
     "output_type": "stream",
     "text": [
      "What is stressing you out?  exit=999\n"
     ]
    },
    {
     "name": "stdin",
     "output_type": "stream",
     "text": [
      " \n"
     ]
    },
    {
     "name": "stdout",
     "output_type": "stream",
     "text": [
      "*** Please enter a value.  Or enter 999 to exit ***\n",
      "What is stressing you out?  exit=999\n"
     ]
    },
    {
     "name": "stdin",
     "output_type": "stream",
     "text": [
      " CCP ticketing system\n"
     ]
    },
    {
     "name": "stdout",
     "output_type": "stream",
     "text": [
      "What is stressing you out?  exit=999\n"
     ]
    },
    {
     "name": "stdin",
     "output_type": "stream",
     "text": [
      " collect notes and resources for DB compare\n"
     ]
    },
    {
     "name": "stdout",
     "output_type": "stream",
     "text": [
      "What is stressing you out?  exit=999\n"
     ]
    },
    {
     "name": "stdin",
     "output_type": "stream",
     "text": [
      " email nonprofits asking about their DB experience\n"
     ]
    },
    {
     "name": "stdout",
     "output_type": "stream",
     "text": [
      "What is stressing you out?  exit=999\n"
     ]
    },
    {
     "name": "stdin",
     "output_type": "stream",
     "text": [
      " reach out to Greg.  ask for phone call\n"
     ]
    },
    {
     "name": "stdout",
     "output_type": "stream",
     "text": [
      "What is stressing you out?  exit=999\n"
     ]
    },
    {
     "name": "stdin",
     "output_type": "stream",
     "text": [
      " start working on PHD program research\n"
     ]
    },
    {
     "name": "stdout",
     "output_type": "stream",
     "text": [
      "What is stressing you out?  exit=999\n"
     ]
    },
    {
     "name": "stdin",
     "output_type": "stream",
     "text": [
      " txst citation manager and how to use it\n"
     ]
    },
    {
     "name": "stdout",
     "output_type": "stream",
     "text": [
      "What is stressing you out?  exit=999\n"
     ]
    },
    {
     "name": "stdin",
     "output_type": "stream",
     "text": [
      " 999\n"
     ]
    },
    {
     "name": "stdout",
     "output_type": "stream",
     "text": [
      "thank you\n"
     ]
    }
   ],
   "source": [
    "# create list of projects stressing you\n",
    "stressors=[]\n",
    "\n",
    "def list_stressors():\n",
    "    print(\"What is stressing you out?  exit=999\")\n",
    "    x = str(input())\n",
    "    if x == \"999\":\n",
    "        print(\"thank you\")\n",
    "    else: \n",
    "        if x == \"\":\n",
    "            print(\"*** Please enter a value.  Or enter 999 to exit ***\")\n",
    "            list_stressors()\n",
    "        else: \n",
    "            stressors.append(x)\n",
    "            list_stressors()\n",
    "            \n",
    "list_stressors()"
   ]
  },
  {
   "cell_type": "code",
   "execution_count": 4,
   "metadata": {},
   "outputs": [],
   "source": [
    "# converts to numpy array for pandas DF later\n",
    "projects = np.array(stressors)"
   ]
  },
  {
   "cell_type": "code",
   "execution_count": 9,
   "metadata": {},
   "outputs": [
    {
     "name": "stdout",
     "output_type": "stream",
     "text": [
      "Rate Importance of CCP TICKETING SYSTEM:  (0 ->10 ->20 or exit=999)\n"
     ]
    },
    {
     "name": "stdin",
     "output_type": "stream",
     "text": [
      " 19\n"
     ]
    },
    {
     "name": "stdout",
     "output_type": "stream",
     "text": [
      "Rate Urgency of CCP TICKETING SYSTEM:  (0 ->10 ->20 or exit=999)\n"
     ]
    },
    {
     "name": "stdin",
     "output_type": "stream",
     "text": [
      " 19\n"
     ]
    },
    {
     "name": "stdout",
     "output_type": "stream",
     "text": [
      "Rate Importance of COLLECT NOTES AND RESOURCES FOR DB COMPARE:  (0 ->10 ->20 or exit=999)\n"
     ]
    },
    {
     "name": "stdin",
     "output_type": "stream",
     "text": [
      " 19\n"
     ]
    },
    {
     "name": "stdout",
     "output_type": "stream",
     "text": [
      "Rate Urgency of COLLECT NOTES AND RESOURCES FOR DB COMPARE:  (0 ->10 ->20 or exit=999)\n"
     ]
    },
    {
     "name": "stdin",
     "output_type": "stream",
     "text": [
      " 19\n"
     ]
    },
    {
     "name": "stdout",
     "output_type": "stream",
     "text": [
      "Rate Importance of EMAIL NONPROFITS ASKING ABOUT THEIR DB EXPERIENCE:  (0 ->10 ->20 or exit=999)\n"
     ]
    },
    {
     "name": "stdin",
     "output_type": "stream",
     "text": [
      " 16\n"
     ]
    },
    {
     "name": "stdout",
     "output_type": "stream",
     "text": [
      "Rate Urgency of EMAIL NONPROFITS ASKING ABOUT THEIR DB EXPERIENCE:  (0 ->10 ->20 or exit=999)\n"
     ]
    },
    {
     "name": "stdin",
     "output_type": "stream",
     "text": [
      " 15\n"
     ]
    },
    {
     "name": "stdout",
     "output_type": "stream",
     "text": [
      "Rate Importance of REACH OUT TO GREG.  ASK FOR PHONE CALL:  (0 ->10 ->20 or exit=999)\n"
     ]
    },
    {
     "name": "stdin",
     "output_type": "stream",
     "text": [
      " 19\n"
     ]
    },
    {
     "name": "stdout",
     "output_type": "stream",
     "text": [
      "Rate Urgency of REACH OUT TO GREG.  ASK FOR PHONE CALL:  (0 ->10 ->20 or exit=999)\n"
     ]
    },
    {
     "name": "stdin",
     "output_type": "stream",
     "text": [
      " 14\n"
     ]
    },
    {
     "name": "stdout",
     "output_type": "stream",
     "text": [
      "Rate Importance of START WORKING ON PHD PROGRAM RESEARCH:  (0 ->10 ->20 or exit=999)\n"
     ]
    },
    {
     "name": "stdin",
     "output_type": "stream",
     "text": [
      " 19\n"
     ]
    },
    {
     "name": "stdout",
     "output_type": "stream",
     "text": [
      "Rate Urgency of START WORKING ON PHD PROGRAM RESEARCH:  (0 ->10 ->20 or exit=999)\n"
     ]
    },
    {
     "name": "stdin",
     "output_type": "stream",
     "text": [
      " 10\n"
     ]
    },
    {
     "name": "stdout",
     "output_type": "stream",
     "text": [
      "Rate Importance of TXST CITATION MANAGER AND HOW TO USE IT:  (0 ->10 ->20 or exit=999)\n"
     ]
    },
    {
     "name": "stdin",
     "output_type": "stream",
     "text": [
      " 14\n"
     ]
    },
    {
     "name": "stdout",
     "output_type": "stream",
     "text": [
      "Rate Urgency of TXST CITATION MANAGER AND HOW TO USE IT:  (0 ->10 ->20 or exit=999)\n"
     ]
    },
    {
     "name": "stdin",
     "output_type": "stream",
     "text": [
      " 10\n"
     ]
    }
   ],
   "source": [
    "# weigh Importance vs Urgency (table 1-20)\n",
    "\n",
    "#initiate arrays for 0-20 rating\n",
    "importance = np.zeros(projects.size, dtype=int)\n",
    "urgency = np.zeros(projects.size, dtype=int)\n",
    "\n",
    "# iterator below this.  \n",
    "counter=0\n",
    "for i in projects: \n",
    "    a = importance_choice(projects[counter])      # if a==999, break.  don't go to b=funtion()\n",
    "    b = urgency_choice(projects[counter])\n",
    "    if a==999 or b==999:\n",
    "        print(\"please restart\")\n",
    "        break\n",
    "    else:\n",
    "        importance[counter]=a\n",
    "        urgency[counter]=b\n",
    "        counter+=1\n",
    "        continue"
   ]
  },
  {
   "cell_type": "code",
   "execution_count": 10,
   "metadata": {},
   "outputs": [],
   "source": [
    "# construct dataframe\n",
    "\n",
    "data = {\"Importance\": importance, \"Urgency\": urgency}\n",
    "df = pd.DataFrame(data=data, index=projects)"
   ]
  },
  {
   "cell_type": "code",
   "execution_count": 11,
   "metadata": {},
   "outputs": [
    {
     "data": {
      "text/html": [
       "<div>\n",
       "<style scoped>\n",
       "    .dataframe tbody tr th:only-of-type {\n",
       "        vertical-align: middle;\n",
       "    }\n",
       "\n",
       "    .dataframe tbody tr th {\n",
       "        vertical-align: top;\n",
       "    }\n",
       "\n",
       "    .dataframe thead th {\n",
       "        text-align: right;\n",
       "    }\n",
       "</style>\n",
       "<table border=\"1\" class=\"dataframe\">\n",
       "  <thead>\n",
       "    <tr style=\"text-align: right;\">\n",
       "      <th></th>\n",
       "      <th>Importance</th>\n",
       "      <th>Urgency</th>\n",
       "    </tr>\n",
       "  </thead>\n",
       "  <tbody>\n",
       "    <tr>\n",
       "      <th>CCP ticketing system</th>\n",
       "      <td>19</td>\n",
       "      <td>19</td>\n",
       "    </tr>\n",
       "    <tr>\n",
       "      <th>collect notes and resources for DB compare</th>\n",
       "      <td>19</td>\n",
       "      <td>19</td>\n",
       "    </tr>\n",
       "    <tr>\n",
       "      <th>email nonprofits asking about their DB experience</th>\n",
       "      <td>16</td>\n",
       "      <td>15</td>\n",
       "    </tr>\n",
       "    <tr>\n",
       "      <th>reach out to Greg.  ask for phone call</th>\n",
       "      <td>19</td>\n",
       "      <td>14</td>\n",
       "    </tr>\n",
       "    <tr>\n",
       "      <th>start working on PHD program research</th>\n",
       "      <td>19</td>\n",
       "      <td>10</td>\n",
       "    </tr>\n",
       "    <tr>\n",
       "      <th>txst citation manager and how to use it</th>\n",
       "      <td>14</td>\n",
       "      <td>10</td>\n",
       "    </tr>\n",
       "  </tbody>\n",
       "</table>\n",
       "</div>"
      ],
      "text/plain": [
       "                                                   Importance  Urgency\n",
       "CCP ticketing system                                       19       19\n",
       "collect notes and resources for DB compare                 19       19\n",
       "email nonprofits asking about their DB experience          16       15\n",
       "reach out to Greg.  ask for phone call                     19       14\n",
       "start working on PHD program research                      19       10\n",
       "txst citation manager and how to use it                    14       10"
      ]
     },
     "execution_count": 11,
     "metadata": {},
     "output_type": "execute_result"
    }
   ],
   "source": [
    "df"
   ]
  },
  {
   "cell_type": "code",
   "execution_count": 12,
   "metadata": {},
   "outputs": [
    {
     "data": {
      "text/plain": [
       "((0.0, 21.0), (0.0, 21.0))"
      ]
     },
     "execution_count": 12,
     "metadata": {},
     "output_type": "execute_result"
    },
    {
     "data": {
      "image/png": "[encoded data removed]",
      "text/plain": [
       "<Figure size 432x288 with 1 Axes>"
      ]
     },
     "metadata": {
      "needs_background": "light"
     },
     "output_type": "display_data"
    }
   ],
   "source": [
    "# graph df in scatterplot\n",
    "\n",
    "plt.plot(df['Importance'], df['Urgency'], 'o', label='Inline label')\n",
    "\n",
    "plt.plot((0,21),(10,10), 'g--')\n",
    "plt.plot((10,10), (0,21), 'g--')\n",
    "plt.xlim(0,21), plt.ylim(0,21)"
   ]
  },
  {
   "cell_type": "code",
   "execution_count": 13,
   "metadata": {},
   "outputs": [
    {
     "name": "stdout",
     "output_type": "stream",
     "text": [
      "                                                   Importance  Urgency\n",
      "CCP ticketing system                                       19     19.0\n",
      "collect notes and resources for DB compare                 19     19.0\n",
      "email nonprofits asking about their DB experience          16     15.0\n",
      "reach out to Greg.  ask for phone call                     19     14.0\n"
     ]
    }
   ],
   "source": [
    "# pick top 3 from top-right quadrant\n",
    "\n",
    "top_projects = df[df[[\"Importance\", \"Urgency\"]]>10].dropna()\n",
    "print(top_projects.sort_values(by=\"Urgency\", ascending=False))"
   ]
  },
  {
   "cell_type": "code",
   "execution_count": null,
   "metadata": {},
   "outputs": [],
   "source": [
    "# project 1:  dependencies, impact of completion, impact of neglect, resources needed"
   ]
  },
  {
   "cell_type": "code",
   "execution_count": null,
   "metadata": {},
   "outputs": [],
   "source": [
    "# project 2:  dependencies, impact of completion, impact of neglect, resources needed"
   ]
  },
  {
   "cell_type": "code",
   "execution_count": null,
   "metadata": {},
   "outputs": [],
   "source": [
    "# project 3:  dependencies, impact of completion, impact of neglect, resources needed"
   ]
  },
  {
   "cell_type": "code",
   "execution_count": null,
   "metadata": {},
   "outputs": [],
   "source": [
    "# summarize and compare projects"
   ]
  },
  {
   "cell_type": "code",
   "execution_count": null,
   "metadata": {},
   "outputs": [],
   "source": [
    "# top project tiniest next steps"
   ]
  },
  {
   "cell_type": "code",
   "execution_count": null,
   "metadata": {},
   "outputs": [],
   "source": []
  }
 ],
 "metadata": {
  "kernelspec": {
   "display_name": "Python 3",
   "language": "python",
   "name": "python3"
  },
  "language_info": {
   "codemirror_mode": {
    "name": "ipython",
    "version": 3
   },
   "file_extension": ".py",
   "mimetype": "text/x-python",
   "name": "python",
   "nbconvert_exporter": "python",
   "pygments_lexer": "ipython3",
   "version": "3.8.3"
  }
 },
 "nbformat": 4,
 "nbformat_minor": 4
}
