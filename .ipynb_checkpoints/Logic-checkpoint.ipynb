{
 "cells": [
  {
   "cell_type": "code",
   "execution_count": 95,
   "metadata": {},
   "outputs": [],
   "source": [
    "%matplotlib inline\n",
    "import matplotlib.pyplot as plt\n",
    "import numpy as np\n",
    "import pandas as pd"
   ]
  },
  {
   "cell_type": "code",
   "execution_count": 96,
   "metadata": {},
   "outputs": [],
   "source": [
    "def importance_choice(i):\n",
    "    print(f'Rate Importance of {i.upper()}:  (0-->20 high or exit=999)')\n",
    "    a = int(input())                        # add sanitizer for string inputs.  switch: if a==string, please try again, call function\n",
    "    if a > -1 and a < 21:                   \n",
    "        return a\n",
    "    elif (a==999):\n",
    "        print(\"thank you\")\n",
    "        return a\n",
    "    else: \n",
    "        print(\"please try again\")\n",
    "        importance_choice(i)\n",
    "\n",
    "def urgency_choice(i):\n",
    "    print(f'Rate Urgency of {i.upper()}:  (0-->20 high or exit=999)')\n",
    "    b = int(input())\n",
    "    if b > -1 and b < 21:\n",
    "        return b\n",
    "    elif (b==999):\n",
    "        print(\"thank you\")\n",
    "        return b\n",
    "    else: \n",
    "        print(\"please try again\")\n",
    "        urgency_choice(i)"
   ]
  },
  {
   "cell_type": "code",
   "execution_count": 101,
   "metadata": {},
   "outputs": [
    {
     "name": "stdout",
     "output_type": "stream",
     "text": [
      "What is stressing you out?  exit=999\n",
      "What is stressing you out?  exit=999\n",
      "What is stressing you out?  exit=999\n",
      "What is stressing you out?  exit=999\n",
      "What is stressing you out?  exit=999\n",
      "What is stressing you out?  exit=999\n",
      "thank you\n"
     ]
    }
   ],
   "source": [
    "# create list of projects stressing you\n",
    "stressors=[]\n",
    "\n",
    "def list_stressors():\n",
    "    print(\"What is stressing you out?  exit=999\")\n",
    "    x = str(input())\n",
    "    if x == \"999\":\n",
    "        print(\"thank you\")\n",
    "    else: \n",
    "        if x == \"\":\n",
    "            print(\"*** Please enter a value.  Or enter 999 to exit ***\")\n",
    "            list_stressors()\n",
    "        else: \n",
    "            stressors.append(x)\n",
    "            list_stressors()\n",
    "            \n",
    "list_stressors()"
   ]
  },
  {
   "cell_type": "code",
   "execution_count": 102,
   "metadata": {},
   "outputs": [],
   "source": [
    "# converts to numpy array for pandas DF later\n",
    "projects = np.array(stressors)"
   ]
  },
  {
   "cell_type": "code",
   "execution_count": 103,
   "metadata": {},
   "outputs": [
    {
     "name": "stdout",
     "output_type": "stream",
     "text": [
      "Rate Importance of REACT:  (0-->20 high or exit=999)\n",
      "Rate Urgency of REACT:  (0-->20 high or exit=999)\n",
      "Rate Importance of CSS:  (0-->20 high or exit=999)\n",
      "Rate Urgency of CSS:  (0-->20 high or exit=999)\n",
      "Rate Importance of DSTRUCTS:  (0-->20 high or exit=999)\n",
      "Rate Urgency of DSTRUCTS:  (0-->20 high or exit=999)\n",
      "Rate Importance of COOKING:  (0-->20 high or exit=999)\n",
      "Rate Urgency of COOKING:  (0-->20 high or exit=999)\n",
      "Rate Importance of VOLUNTEERING:  (0-->20 high or exit=999)\n",
      "Rate Urgency of VOLUNTEERING:  (0-->20 high or exit=999)\n"
     ]
    }
   ],
   "source": [
    "# weigh Importance vs Urgency (table 1-20)\n",
    "\n",
    "#initiate arrays for 0-20 rating\n",
    "importance = np.zeros(projects.size, dtype=int)\n",
    "urgency = np.zeros(projects.size, dtype=int)\n",
    "\n",
    "# iterator below this.  \n",
    "counter=0\n",
    "for i in projects: \n",
    "    a = importance_choice(projects[counter])      # if a==999, break.  don't go to b=funtion()\n",
    "    b = urgency_choice(projects[counter])\n",
    "    if a==999 or b==999:\n",
    "        print(\"please restart\")\n",
    "        break\n",
    "    else:\n",
    "        importance[counter]=a\n",
    "        urgency[counter]=b\n",
    "        counter+=1\n",
    "        continue"
   ]
  },
  {
   "cell_type": "code",
   "execution_count": 105,
   "metadata": {},
   "outputs": [],
   "source": [
    "# construct dataframe\n",
    "\n",
    "data = {\"Importance\": importance, \"Urgency\": urgency}\n",
    "df = pd.DataFrame(data=data, index=projects)"
   ]
  },
  {
   "cell_type": "code",
   "execution_count": 106,
   "metadata": {},
   "outputs": [
    {
     "data": {
      "text/html": [
       "<div>\n",
       "<style scoped>\n",
       "    .dataframe tbody tr th:only-of-type {\n",
       "        vertical-align: middle;\n",
       "    }\n",
       "\n",
       "    .dataframe tbody tr th {\n",
       "        vertical-align: top;\n",
       "    }\n",
       "\n",
       "    .dataframe thead th {\n",
       "        text-align: right;\n",
       "    }\n",
       "</style>\n",
       "<table border=\"1\" class=\"dataframe\">\n",
       "  <thead>\n",
       "    <tr style=\"text-align: right;\">\n",
       "      <th></th>\n",
       "      <th>Importance</th>\n",
       "      <th>Urgency</th>\n",
       "    </tr>\n",
       "  </thead>\n",
       "  <tbody>\n",
       "    <tr>\n",
       "      <th>react</th>\n",
       "      <td>18</td>\n",
       "      <td>18</td>\n",
       "    </tr>\n",
       "    <tr>\n",
       "      <th>css</th>\n",
       "      <td>10</td>\n",
       "      <td>10</td>\n",
       "    </tr>\n",
       "    <tr>\n",
       "      <th>dstructs</th>\n",
       "      <td>15</td>\n",
       "      <td>8</td>\n",
       "    </tr>\n",
       "    <tr>\n",
       "      <th>cooking</th>\n",
       "      <td>20</td>\n",
       "      <td>20</td>\n",
       "    </tr>\n",
       "    <tr>\n",
       "      <th>volunteering</th>\n",
       "      <td>18</td>\n",
       "      <td>11</td>\n",
       "    </tr>\n",
       "  </tbody>\n",
       "</table>\n",
       "</div>"
      ],
      "text/plain": [
       "              Importance  Urgency\n",
       "react                 18       18\n",
       "css                   10       10\n",
       "dstructs              15        8\n",
       "cooking               20       20\n",
       "volunteering          18       11"
      ]
     },
     "execution_count": 106,
     "metadata": {},
     "output_type": "execute_result"
    }
   ],
   "source": [
    "df.head()"
   ]
  },
  {
   "cell_type": "code",
   "execution_count": 107,
   "metadata": {},
   "outputs": [
    {
     "data": {
      "text/plain": [
       "((0, 21), (0, 21))"
      ]
     },
     "execution_count": 107,
     "metadata": {},
     "output_type": "execute_result"
    },
    {
     "data": {
      "image/png": "[encoded data removed]",
      "text/plain": [
       "<Figure size 432x288 with 1 Axes>"
      ]
     },
     "metadata": {},
     "output_type": "display_data"
    }
   ],
   "source": [
    "# graph df in scatterplot.  x = Importance, y = Urgency.  points = Projects (index on this column?)\n",
    "\n",
    "plt.plot(df['Importance'], df['Urgency'], 'o', label='Inline label')\n",
    "\n",
    "plt.plot((0,21),(10,10), 'g--')\n",
    "plt.plot((10,10), (0,21), 'g--')\n",
    "plt.xlim(0,21), plt.ylim(0,21)"
   ]
  },
  {
   "cell_type": "code",
   "execution_count": 108,
   "metadata": {},
   "outputs": [
    {
     "name": "stdout",
     "output_type": "stream",
     "text": [
      "              Importance  Urgency\n",
      "cooking             20.0     20.0\n",
      "react               18.0     18.0\n",
      "volunteering        18.0     11.0\n"
     ]
    }
   ],
   "source": [
    "# pick top 3 from top-right quadrant\n",
    "\n",
    "top_projects = df[df[[\"Importance\", \"Urgency\"]]>10].dropna()\n",
    "print(top_projects.sort_values(by=\"Urgency\", ascending=False))"
   ]
  },
  {
   "cell_type": "code",
   "execution_count": null,
   "metadata": {},
   "outputs": [],
   "source": [
    "# project 1:  dependencies, impact of completion, impact of neglect, resources needed"
   ]
  },
  {
   "cell_type": "code",
   "execution_count": null,
   "metadata": {},
   "outputs": [],
   "source": [
    "# project 2:  dependencies, impact of completion, impact of neglect, resources needed"
   ]
  },
  {
   "cell_type": "code",
   "execution_count": null,
   "metadata": {},
   "outputs": [],
   "source": [
    "# project 3:  dependencies, impact of completion, impact of neglect, resources needed"
   ]
  },
  {
   "cell_type": "code",
   "execution_count": null,
   "metadata": {},
   "outputs": [],
   "source": [
    "# summarize and compare projects"
   ]
  },
  {
   "cell_type": "code",
   "execution_count": null,
   "metadata": {},
   "outputs": [],
   "source": [
    "# top project tiniest next steps"
   ]
  },
  {
   "cell_type": "code",
   "execution_count": null,
   "metadata": {},
   "outputs": [],
   "source": []
  }
 ],
 "metadata": {
  "kernelspec": {
   "display_name": "Python 3",
   "language": "python",
   "name": "python3"
  },
  "language_info": {
   "codemirror_mode": {
    "name": "ipython",
    "version": 3
   },
   "file_extension": ".py",
   "mimetype": "text/x-python",
   "name": "python",
   "nbconvert_exporter": "python",
   "pygments_lexer": "ipython3",
   "version": "3.6.8"
  }
 },
 "nbformat": 4,
 "nbformat_minor": 2
}
