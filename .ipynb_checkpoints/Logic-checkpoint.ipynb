{
 "cells": [
  {
   "cell_type": "code",
   "execution_count": 3,
   "metadata": {},
   "outputs": [],
   "source": [
    "%matplotlib inline\n",
    "import matplotlib.pyplot as plt\n",
    "import numpy as np\n",
    "import pandas as pd"
   ]
  },
  {
   "cell_type": "code",
   "execution_count": 97,
   "metadata": {},
   "outputs": [
    {
     "name": "stdout",
     "output_type": "stream",
     "text": [
      "What's stressing you out right now? exit=999\n",
      "Please enter a value:\n",
      "What's stressing you out right now? exit=999\n",
      "Please enter a value:\n",
      "What's stressing you out right now? exit=999\n",
      "What's stressing you out right now? exit=999\n",
      "What's stressing you out right now? exit=999\n",
      "What's stressing you out right now? exit=999\n",
      "thank you\n"
     ]
    }
   ],
   "source": [
    "# create list of projects stressing you\n",
    "stressors=[]\n",
    "\n",
    "def list_stressors():\n",
    "    print(\"What's stressing you out right now? exit=999\")\n",
    "    x = str(input())\n",
    "    if x == \"999\":\n",
    "        print(\"thank you\")\n",
    "    else: \n",
    "        if x == \"\":\n",
    "            print(\"Please enter a value:\")\n",
    "            list_stressors()\n",
    "        else: \n",
    "            stressors.append(x)\n",
    "            list_stressors()\n",
    "            \n",
    "list_stressors()"
   ]
  },
  {
   "cell_type": "code",
   "execution_count": 98,
   "metadata": {},
   "outputs": [
    {
     "data": {
      "text/plain": [
       "array(['things', 'you', 'babyyyyy'], dtype='<U8')"
      ]
     },
     "execution_count": 98,
     "metadata": {},
     "output_type": "execute_result"
    }
   ],
   "source": [
    "# converts to numpy array\n",
    "projects = np.array(stressors)\n",
    "\n",
    "projects"
   ]
  },
  {
   "cell_type": "code",
   "execution_count": 90,
   "metadata": {},
   "outputs": [],
   "source": [
    "# weigh Importance vs Urgency (table 1-20)\n",
    "\n",
    "importance = []\n",
    "urgency = []\n",
    "\n",
    "# iterator below this.  for item in projects\n",
    "item = projects[0]  # save index for linking in imp/urg arrays\n",
    "\n"
   ]
  },
  {
   "cell_type": "code",
   "execution_count": 117,
   "metadata": {},
   "outputs": [
    {
     "name": "stdout",
     "output_type": "stream",
     "text": [
      "[0 1 0]\n",
      "[0 0 0]\n"
     ]
    }
   ],
   "source": [
    "#initiate arrays for 0-20 rating\n",
    "importance = np.zeros(projects.size, dtype=int)\n",
    "urgency = np.zeros(projects.size, dtype=int)\n",
    "\n",
    "importance[1] = 1\n",
    "\n",
    "print(importance)\n",
    "print(urgency)"
   ]
  },
  {
   "cell_type": "code",
   "execution_count": 86,
   "metadata": {},
   "outputs": [],
   "source": [
    "def importance_choice():\n",
    "    print(f'What would you rate \"{item}\" on IMPORTANCE? (int[0-20] or exit=999)')\n",
    "    x = int(input())\n",
    "    if x > 0 and x < 20:\n",
    "        importance.append(x)   # insert into array here to match row of project\n",
    "    elif (x==999):\n",
    "        print(\"thank you\")\n",
    "    else: \n",
    "        print(\"please try again\")\n",
    "        importance_choice()"
   ]
  },
  {
   "cell_type": "code",
   "execution_count": null,
   "metadata": {},
   "outputs": [],
   "source": [
    "def urgency_choice():\n",
    "    print(f'What would you rate \"{item}\" on URGENCY? (int[0-20] or exit=999)')\n",
    "    x = int(input())\n",
    "    if x > 0 and x < 20:\n",
    "        urgency.append(x)      # insert into array here to match row of project\n",
    "    elif (x==999):\n",
    "        print(\"thank you\")\n",
    "    else: \n",
    "        print(\"please try again\")\n",
    "        urgency_choice()"
   ]
  },
  {
   "cell_type": "code",
   "execution_count": 87,
   "metadata": {},
   "outputs": [
    {
     "name": "stdout",
     "output_type": "stream",
     "text": [
      "What would you rate \"react\" on importance? (int[0-20] or exit=999)\n",
      "please try again\n",
      "What would you rate \"react\" on importance? (int[0-20] or exit=999)\n"
     ]
    }
   ],
   "source": [
    "imp_choice()"
   ]
  },
  {
   "cell_type": "code",
   "execution_count": null,
   "metadata": {},
   "outputs": [],
   "source": []
  },
  {
   "cell_type": "code",
   "execution_count": 88,
   "metadata": {},
   "outputs": [
    {
     "data": {
      "text/plain": [
       "[2, 3, 15]"
      ]
     },
     "execution_count": 88,
     "metadata": {},
     "output_type": "execute_result"
    }
   ],
   "source": [
    "importance"
   ]
  },
  {
   "cell_type": "code",
   "execution_count": null,
   "metadata": {},
   "outputs": [],
   "source": [
    "# construct dataframe / table\n",
    "\n",
    "df = pd.DataFrame(data=projects, columns=[\"projects\"])"
   ]
  },
  {
   "cell_type": "code",
   "execution_count": 7,
   "metadata": {},
   "outputs": [
    {
     "data": {
      "text/plain": [
       "array([ 0,  1,  2,  3,  4,  5,  6,  7,  8,  9, 10, 11, 12, 13, 14, 15, 16,\n",
       "       17, 18, 19, 20])"
      ]
     },
     "execution_count": 7,
     "metadata": {},
     "output_type": "execute_result"
    }
   ],
   "source": [
    "# graph these\n",
    "x = np.arange(21)\n",
    "y = np.arange(21)"
   ]
  },
  {
   "cell_type": "code",
   "execution_count": null,
   "metadata": {},
   "outputs": [],
   "source": [
    "# pick top 3 from top-right quadrant"
   ]
  },
  {
   "cell_type": "code",
   "execution_count": null,
   "metadata": {},
   "outputs": [],
   "source": [
    "# project 1:  dependencies, impact of completion, impact of neglect, resources needed"
   ]
  },
  {
   "cell_type": "code",
   "execution_count": null,
   "metadata": {},
   "outputs": [],
   "source": [
    "# project 2:  dependencies, impact of completion, impact of neglect, resources needed"
   ]
  },
  {
   "cell_type": "code",
   "execution_count": null,
   "metadata": {},
   "outputs": [],
   "source": [
    "# project 3:  dependencies, impact of completion, impact of neglect, resources needed"
   ]
  },
  {
   "cell_type": "code",
   "execution_count": null,
   "metadata": {},
   "outputs": [],
   "source": [
    "# summarize and compare projects"
   ]
  },
  {
   "cell_type": "code",
   "execution_count": null,
   "metadata": {},
   "outputs": [],
   "source": [
    "# top project tiniest next steps"
   ]
  },
  {
   "cell_type": "code",
   "execution_count": null,
   "metadata": {},
   "outputs": [],
   "source": []
  }
 ],
 "metadata": {
  "kernelspec": {
   "display_name": "Python 3",
   "language": "python",
   "name": "python3"
  },
  "language_info": {
   "codemirror_mode": {
    "name": "ipython",
    "version": 3
   },
   "file_extension": ".py",
   "mimetype": "text/x-python",
   "name": "python",
   "nbconvert_exporter": "python",
   "pygments_lexer": "ipython3",
   "version": "3.6.8"
  }
 },
 "nbformat": 4,
 "nbformat_minor": 2
}
