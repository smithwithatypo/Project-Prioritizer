{
 "cells": [
  {
   "cell_type": "code",
   "execution_count": 190,
   "metadata": {},
   "outputs": [],
   "source": [
    "%matplotlib inline\n",
    "import matplotlib.pyplot as plt\n",
    "import numpy as np\n",
    "import pandas as pd"
   ]
  },
  {
   "cell_type": "code",
   "execution_count": 191,
   "metadata": {},
   "outputs": [
    {
     "name": "stdout",
     "output_type": "stream",
     "text": [
      "What's stressing you out right now?  exit=999\n",
      "What's stressing you out right now?  exit=999\n",
      "What's stressing you out right now?  exit=999\n",
      "What's stressing you out right now?  exit=999\n",
      "What's stressing you out right now?  exit=999\n",
      "thank you\n"
     ]
    }
   ],
   "source": [
    "# create list of projects stressing you\n",
    "stressors=[]\n",
    "\n",
    "def list_stressors():\n",
    "    print(\"What's stressing you out right now?  exit=999\")\n",
    "    x = str(input())\n",
    "    if x == \"999\":\n",
    "        print(\"thank you\")\n",
    "    else: \n",
    "        if x == \"\":\n",
    "            print(\"*** Please enter a value.  Or enter 999 to exit ***\")\n",
    "            list_stressors()\n",
    "        else: \n",
    "            stressors.append(x)\n",
    "            list_stressors()\n",
    "            \n",
    "list_stressors()"
   ]
  },
  {
   "cell_type": "code",
   "execution_count": 192,
   "metadata": {},
   "outputs": [
    {
     "data": {
      "text/plain": [
       "array(['react', 'css', 'work', 'school'], dtype='<U6')"
      ]
     },
     "execution_count": 192,
     "metadata": {},
     "output_type": "execute_result"
    }
   ],
   "source": [
    "# converts to numpy array for pandas DF later\n",
    "projects = np.array(stressors)\n",
    "\n",
    "projects"
   ]
  },
  {
   "cell_type": "code",
   "execution_count": 193,
   "metadata": {},
   "outputs": [
    {
     "name": "stdout",
     "output_type": "stream",
     "text": [
      "Rate Importance of REACT:  (integer 0-20 or exit=999)\n",
      "Rate Urgency of REACT:  (integer 0-20 or exit=999)\n",
      "Rate Importance of CSS:  (integer 0-20 or exit=999)\n",
      "Rate Urgency of CSS:  (integer 0-20 or exit=999)\n",
      "Rate Importance of WORK:  (integer 0-20 or exit=999)\n",
      "Rate Urgency of WORK:  (integer 0-20 or exit=999)\n",
      "Rate Importance of SCHOOL:  (integer 0-20 or exit=999)\n",
      "Rate Urgency of SCHOOL:  (integer 0-20 or exit=999)\n"
     ]
    }
   ],
   "source": [
    "# weigh Importance vs Urgency (table 1-20)\n",
    "\n",
    "#initiate arrays for 0-20 rating\n",
    "importance = np.zeros(projects.size, dtype=int)\n",
    "urgency = np.zeros(projects.size, dtype=int)\n",
    "\n",
    "# iterator below this.  \n",
    "counter=0\n",
    "for i in projects: \n",
    "    a = importance_choice(projects[counter])      # if a==999, break.  don't go to b=funtion()\n",
    "    b = urgency_choice(projects[counter])\n",
    "    if a==999 or b==999:\n",
    "        print(\"please restart\")\n",
    "        break\n",
    "    else:\n",
    "        importance[counter]=a\n",
    "        urgency[counter]=b\n",
    "        counter+=1\n",
    "        continue"
   ]
  },
  {
   "cell_type": "code",
   "execution_count": 194,
   "metadata": {},
   "outputs": [
    {
     "name": "stdout",
     "output_type": "stream",
     "text": [
      "[18 17 20 20]\n",
      "[15 15 20 15]\n"
     ]
    }
   ],
   "source": [
    "print(importance)\n",
    "print(urgency)"
   ]
  },
  {
   "cell_type": "code",
   "execution_count": 188,
   "metadata": {},
   "outputs": [],
   "source": [
    "def importance_choice(i):\n",
    "    print(f'Rate Importance of {i.upper()}:  (integer 0-20 or exit=999)')\n",
    "    a = int(input())                        # add sanitizer for string inputs.  switch: if a==string, please try again, call function\n",
    "    if a > -1 and a < 21:                   # \"<=\" operator not working.  possibly floor division needed?  temp fix [-1:21]\n",
    "        return a\n",
    "    elif (a==999):\n",
    "        print(\"thank you\")\n",
    "        return a\n",
    "    else: \n",
    "        print(\"please try again\")\n",
    "        importance_choice(i)"
   ]
  },
  {
   "cell_type": "code",
   "execution_count": 189,
   "metadata": {},
   "outputs": [],
   "source": [
    "def urgency_choice(i):\n",
    "    print(f'Rate Urgency of {i.upper()}:  (integer 0-20 or exit=999)')\n",
    "    b = int(input())\n",
    "    if b > -1 and b < 21:\n",
    "        return b\n",
    "    elif (b==999):\n",
    "        print(\"thank you\")\n",
    "        return b\n",
    "    else: \n",
    "        print(\"please try again\")\n",
    "        urgency_choice(i)"
   ]
  },
  {
   "cell_type": "code",
   "execution_count": 199,
   "metadata": {},
   "outputs": [],
   "source": [
    "# construct dataframe\n",
    "\n",
    "data = {\"Projects\": projects, \"Importance\": importance, \"Urgency\": urgency}\n",
    "df = pd.DataFrame(data=data)"
   ]
  },
  {
   "cell_type": "code",
   "execution_count": 197,
   "metadata": {},
   "outputs": [
    {
     "data": {
      "text/html": [
       "<div>\n",
       "<style scoped>\n",
       "    .dataframe tbody tr th:only-of-type {\n",
       "        vertical-align: middle;\n",
       "    }\n",
       "\n",
       "    .dataframe tbody tr th {\n",
       "        vertical-align: top;\n",
       "    }\n",
       "\n",
       "    .dataframe thead th {\n",
       "        text-align: right;\n",
       "    }\n",
       "</style>\n",
       "<table border=\"1\" class=\"dataframe\">\n",
       "  <thead>\n",
       "    <tr style=\"text-align: right;\">\n",
       "      <th></th>\n",
       "      <th>Projects</th>\n",
       "      <th>Importance</th>\n",
       "      <th>Urgency</th>\n",
       "    </tr>\n",
       "  </thead>\n",
       "  <tbody>\n",
       "    <tr>\n",
       "      <th>0</th>\n",
       "      <td>react</td>\n",
       "      <td>18</td>\n",
       "      <td>15</td>\n",
       "    </tr>\n",
       "    <tr>\n",
       "      <th>1</th>\n",
       "      <td>css</td>\n",
       "      <td>17</td>\n",
       "      <td>15</td>\n",
       "    </tr>\n",
       "    <tr>\n",
       "      <th>2</th>\n",
       "      <td>work</td>\n",
       "      <td>20</td>\n",
       "      <td>20</td>\n",
       "    </tr>\n",
       "    <tr>\n",
       "      <th>3</th>\n",
       "      <td>school</td>\n",
       "      <td>20</td>\n",
       "      <td>15</td>\n",
       "    </tr>\n",
       "  </tbody>\n",
       "</table>\n",
       "</div>"
      ],
      "text/plain": [
       "  Projects  Importance  Urgency\n",
       "0    react          18       15\n",
       "1      css          17       15\n",
       "2     work          20       20\n",
       "3   school          20       15"
      ]
     },
     "execution_count": 197,
     "metadata": {},
     "output_type": "execute_result"
    }
   ],
   "source": [
    "df.head()"
   ]
  },
  {
   "cell_type": "code",
   "execution_count": 198,
   "metadata": {},
   "outputs": [],
   "source": [
    "# graph df in scatterplot.  domain and range are already set.  x = Importance, y = Urgency.  points = Projects (index on this column?)\n",
    "\n",
    "x = np.arange(21)\n",
    "y = np.arange(21)"
   ]
  },
  {
   "cell_type": "code",
   "execution_count": null,
   "metadata": {},
   "outputs": [],
   "source": [
    "# pick top 3 from top-right quadrant"
   ]
  },
  {
   "cell_type": "code",
   "execution_count": null,
   "metadata": {},
   "outputs": [],
   "source": [
    "# project 1:  dependencies, impact of completion, impact of neglect, resources needed"
   ]
  },
  {
   "cell_type": "code",
   "execution_count": null,
   "metadata": {},
   "outputs": [],
   "source": [
    "# project 2:  dependencies, impact of completion, impact of neglect, resources needed"
   ]
  },
  {
   "cell_type": "code",
   "execution_count": null,
   "metadata": {},
   "outputs": [],
   "source": [
    "# project 3:  dependencies, impact of completion, impact of neglect, resources needed"
   ]
  },
  {
   "cell_type": "code",
   "execution_count": null,
   "metadata": {},
   "outputs": [],
   "source": [
    "# summarize and compare projects"
   ]
  },
  {
   "cell_type": "code",
   "execution_count": null,
   "metadata": {},
   "outputs": [],
   "source": [
    "# top project tiniest next steps"
   ]
  },
  {
   "cell_type": "code",
   "execution_count": null,
   "metadata": {},
   "outputs": [],
   "source": []
  }
 ],
 "metadata": {
  "kernelspec": {
   "display_name": "Python 3",
   "language": "python",
   "name": "python3"
  },
  "language_info": {
   "codemirror_mode": {
    "name": "ipython",
    "version": 3
   },
   "file_extension": ".py",
   "mimetype": "text/x-python",
   "name": "python",
   "nbconvert_exporter": "python",
   "pygments_lexer": "ipython3",
   "version": "3.6.8"
  }
 },
 "nbformat": 4,
 "nbformat_minor": 2
}
