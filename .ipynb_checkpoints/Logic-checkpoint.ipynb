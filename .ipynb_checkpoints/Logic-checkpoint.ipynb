{
 "cells": [
  {
   "cell_type": "code",
   "execution_count": 1,
   "metadata": {},
   "outputs": [],
   "source": [
    "%matplotlib inline\n",
    "import matplotlib.pyplot as plt\n",
    "import numpy as np\n",
    "import pandas as pd"
   ]
  },
  {
   "cell_type": "code",
   "execution_count": 2,
   "metadata": {},
   "outputs": [],
   "source": [
    "def importance_choice(i):\n",
    "    print(f'Rate Importance of {i.upper()}:  (0-->20 high or exit=999)')\n",
    "    a = int(input())                        # add sanitizer for string inputs.  switch: if a==string, please try again, call function\n",
    "    if a > -1 and a < 21:                   \n",
    "        return a\n",
    "    elif (a==999):\n",
    "        print(\"thank you\")\n",
    "        return a\n",
    "    else: \n",
    "        print(\"please try again\")\n",
    "        importance_choice(i)\n",
    "\n",
    "def urgency_choice(i):\n",
    "    print(f'Rate Urgency of {i.upper()}:  (0-->20 high or exit=999)')\n",
    "    b = int(input())\n",
    "    if b > -1 and b < 21:\n",
    "        return b\n",
    "    elif (b==999):\n",
    "        print(\"thank you\")\n",
    "        return b\n",
    "    else: \n",
    "        print(\"please try again\")\n",
    "        urgency_choice(i)"
   ]
  },
  {
   "cell_type": "code",
   "execution_count": 3,
   "metadata": {},
   "outputs": [
    {
     "name": "stdout",
     "output_type": "stream",
     "text": [
      "What is stressing you out?  exit=999\n",
      "What is stressing you out?  exit=999\n",
      "What is stressing you out?  exit=999\n",
      "What is stressing you out?  exit=999\n",
      "What is stressing you out?  exit=999\n",
      "What is stressing you out?  exit=999\n",
      "What is stressing you out?  exit=999\n",
      "What is stressing you out?  exit=999\n",
      "What is stressing you out?  exit=999\n",
      "What is stressing you out?  exit=999\n",
      "thank you\n"
     ]
    }
   ],
   "source": [
    "# create list of projects stressing you\n",
    "stressors=[]\n",
    "\n",
    "def list_stressors():\n",
    "    print(\"What is stressing you out?  exit=999\")\n",
    "    x = str(input())\n",
    "    if x == \"999\":\n",
    "        print(\"thank you\")\n",
    "    else: \n",
    "        if x == \"\":\n",
    "            print(\"*** Please enter a value.  Or enter 999 to exit ***\")\n",
    "            list_stressors()\n",
    "        else: \n",
    "            stressors.append(x)\n",
    "            list_stressors()\n",
    "            \n",
    "list_stressors()"
   ]
  },
  {
   "cell_type": "code",
   "execution_count": 4,
   "metadata": {},
   "outputs": [],
   "source": [
    "# converts to numpy array for pandas DF later\n",
    "projects = np.array(stressors)"
   ]
  },
  {
   "cell_type": "code",
   "execution_count": 5,
   "metadata": {},
   "outputs": [
    {
     "name": "stdout",
     "output_type": "stream",
     "text": [
      "Rate Importance of CCP DASHBOARD:  (0-->20 high or exit=999)\n",
      "Rate Urgency of CCP DASHBOARD:  (0-->20 high or exit=999)\n",
      "Rate Importance of VC TRAINING ILLUSTRATION:  (0-->20 high or exit=999)\n",
      "Rate Urgency of VC TRAINING ILLUSTRATION:  (0-->20 high or exit=999)\n",
      "Rate Importance of VG/VC RECRUITING:  (0-->20 high or exit=999)\n",
      "Rate Urgency of VG/VC RECRUITING:  (0-->20 high or exit=999)\n",
      "Rate Importance of JINYU SPREADSHEET:  (0-->20 high or exit=999)\n",
      "Rate Urgency of JINYU SPREADSHEET:  (0-->20 high or exit=999)\n",
      "Rate Importance of AUSTIN VOLUNTEERING ONE-PAGER:  (0-->20 high or exit=999)\n",
      "Rate Urgency of AUSTIN VOLUNTEERING ONE-PAGER:  (0-->20 high or exit=999)\n",
      "Rate Importance of CALCULUS CLEP:  (0-->20 high or exit=999)\n",
      "Rate Urgency of CALCULUS CLEP:  (0-->20 high or exit=999)\n",
      "Rate Importance of WORK OUT 3 DAYS A WEEK:  (0-->20 high or exit=999)\n",
      "Rate Urgency of WORK OUT 3 DAYS A WEEK:  (0-->20 high or exit=999)\n",
      "Rate Importance of COOK FOR UNDER $20/DAY:  (0-->20 high or exit=999)\n",
      "Rate Urgency of COOK FOR UNDER $20/DAY:  (0-->20 high or exit=999)\n",
      "Rate Importance of CODE PROJECT PRIORITIZER:  (0-->20 high or exit=999)\n",
      "Rate Urgency of CODE PROJECT PRIORITIZER:  (0-->20 high or exit=999)\n"
     ]
    }
   ],
   "source": [
    "# weigh Importance vs Urgency (table 1-20)\n",
    "\n",
    "#initiate arrays for 0-20 rating\n",
    "importance = np.zeros(projects.size, dtype=int)\n",
    "urgency = np.zeros(projects.size, dtype=int)\n",
    "\n",
    "# iterator below this.  \n",
    "counter=0\n",
    "for i in projects: \n",
    "    a = importance_choice(projects[counter])      # if a==999, break.  don't go to b=funtion()\n",
    "    b = urgency_choice(projects[counter])\n",
    "    if a==999 or b==999:\n",
    "        print(\"please restart\")\n",
    "        break\n",
    "    else:\n",
    "        importance[counter]=a\n",
    "        urgency[counter]=b\n",
    "        counter+=1\n",
    "        continue"
   ]
  },
  {
   "cell_type": "code",
   "execution_count": 6,
   "metadata": {},
   "outputs": [],
   "source": [
    "# construct dataframe\n",
    "\n",
    "data = {\"Importance\": importance, \"Urgency\": urgency}\n",
    "df = pd.DataFrame(data=data, index=projects)"
   ]
  },
  {
   "cell_type": "code",
   "execution_count": 10,
   "metadata": {},
   "outputs": [
    {
     "data": {
      "text/html": [
       "<div>\n",
       "<style scoped>\n",
       "    .dataframe tbody tr th:only-of-type {\n",
       "        vertical-align: middle;\n",
       "    }\n",
       "\n",
       "    .dataframe tbody tr th {\n",
       "        vertical-align: top;\n",
       "    }\n",
       "\n",
       "    .dataframe thead th {\n",
       "        text-align: right;\n",
       "    }\n",
       "</style>\n",
       "<table border=\"1\" class=\"dataframe\">\n",
       "  <thead>\n",
       "    <tr style=\"text-align: right;\">\n",
       "      <th></th>\n",
       "      <th>Importance</th>\n",
       "      <th>Urgency</th>\n",
       "    </tr>\n",
       "  </thead>\n",
       "  <tbody>\n",
       "    <tr>\n",
       "      <th>ccp dashboard</th>\n",
       "      <td>15</td>\n",
       "      <td>8</td>\n",
       "    </tr>\n",
       "    <tr>\n",
       "      <th>VC training illustration</th>\n",
       "      <td>19</td>\n",
       "      <td>15</td>\n",
       "    </tr>\n",
       "    <tr>\n",
       "      <th>vg/vc recruiting</th>\n",
       "      <td>18</td>\n",
       "      <td>18</td>\n",
       "    </tr>\n",
       "    <tr>\n",
       "      <th>jinyu spreadsheet</th>\n",
       "      <td>19</td>\n",
       "      <td>10</td>\n",
       "    </tr>\n",
       "    <tr>\n",
       "      <th>austin volunteering one-pager</th>\n",
       "      <td>10</td>\n",
       "      <td>7</td>\n",
       "    </tr>\n",
       "    <tr>\n",
       "      <th>calculus CLEP</th>\n",
       "      <td>20</td>\n",
       "      <td>15</td>\n",
       "    </tr>\n",
       "    <tr>\n",
       "      <th>work out 3 days a week</th>\n",
       "      <td>20</td>\n",
       "      <td>20</td>\n",
       "    </tr>\n",
       "    <tr>\n",
       "      <th>cook for under $20/day</th>\n",
       "      <td>20</td>\n",
       "      <td>20</td>\n",
       "    </tr>\n",
       "    <tr>\n",
       "      <th>code project prioritizer</th>\n",
       "      <td>18</td>\n",
       "      <td>11</td>\n",
       "    </tr>\n",
       "  </tbody>\n",
       "</table>\n",
       "</div>"
      ],
      "text/plain": [
       "                               Importance  Urgency\n",
       "ccp dashboard                          15        8\n",
       "VC training illustration               19       15\n",
       "vg/vc recruiting                       18       18\n",
       "jinyu spreadsheet                      19       10\n",
       "austin volunteering one-pager          10        7\n",
       "calculus CLEP                          20       15\n",
       "work out 3 days a week                 20       20\n",
       "cook for under $20/day                 20       20\n",
       "code project prioritizer               18       11"
      ]
     },
     "execution_count": 10,
     "metadata": {},
     "output_type": "execute_result"
    }
   ],
   "source": [
    "df"
   ]
  },
  {
   "cell_type": "code",
   "execution_count": 11,
   "metadata": {},
   "outputs": [
    {
     "data": {
      "text/plain": [
       "((0, 21), (0, 21))"
      ]
     },
     "execution_count": 11,
     "metadata": {},
     "output_type": "execute_result"
    },
    {
     "data": {
      "image/png": "[encoded data removed]",
      "text/plain": [
       "<Figure size 432x288 with 1 Axes>"
      ]
     },
     "metadata": {},
     "output_type": "display_data"
    }
   ],
   "source": [
    "# graph df in scatterplot\n",
    "\n",
    "plt.plot(df['Importance'], df['Urgency'], 'o', label='Inline label')\n",
    "\n",
    "plt.plot((0,21),(10,10), 'g--')\n",
    "plt.plot((10,10), (0,21), 'g--')\n",
    "plt.xlim(0,21), plt.ylim(0,21)"
   ]
  },
  {
   "cell_type": "code",
   "execution_count": 12,
   "metadata": {},
   "outputs": [
    {
     "name": "stdout",
     "output_type": "stream",
     "text": [
      "                          Importance  Urgency\n",
      "work out 3 days a week          20.0     20.0\n",
      "cook for under $20/day          20.0     20.0\n",
      "vg/vc recruiting                18.0     18.0\n",
      "VC training illustration        19.0     15.0\n",
      "calculus CLEP                   20.0     15.0\n",
      "code project prioritizer        18.0     11.0\n"
     ]
    }
   ],
   "source": [
    "# pick top 3 from top-right quadrant\n",
    "\n",
    "top_projects = df[df[[\"Importance\", \"Urgency\"]]>10].dropna()\n",
    "print(top_projects.sort_values(by=\"Urgency\", ascending=False))"
   ]
  },
  {
   "cell_type": "code",
   "execution_count": null,
   "metadata": {},
   "outputs": [],
   "source": [
    "# project 1:  dependencies, impact of completion, impact of neglect, resources needed"
   ]
  },
  {
   "cell_type": "code",
   "execution_count": null,
   "metadata": {},
   "outputs": [],
   "source": [
    "# project 2:  dependencies, impact of completion, impact of neglect, resources needed"
   ]
  },
  {
   "cell_type": "code",
   "execution_count": null,
   "metadata": {},
   "outputs": [],
   "source": [
    "# project 3:  dependencies, impact of completion, impact of neglect, resources needed"
   ]
  },
  {
   "cell_type": "code",
   "execution_count": null,
   "metadata": {},
   "outputs": [],
   "source": [
    "# summarize and compare projects"
   ]
  },
  {
   "cell_type": "code",
   "execution_count": null,
   "metadata": {},
   "outputs": [],
   "source": [
    "# top project tiniest next steps"
   ]
  },
  {
   "cell_type": "code",
   "execution_count": null,
   "metadata": {},
   "outputs": [],
   "source": []
  }
 ],
 "metadata": {
  "kernelspec": {
   "display_name": "Python 3",
   "language": "python",
   "name": "python3"
  },
  "language_info": {
   "codemirror_mode": {
    "name": "ipython",
    "version": 3
   },
   "file_extension": ".py",
   "mimetype": "text/x-python",
   "name": "python",
   "nbconvert_exporter": "python",
   "pygments_lexer": "ipython3",
   "version": "3.6.8"
  }
 },
 "nbformat": 4,
 "nbformat_minor": 2
}
